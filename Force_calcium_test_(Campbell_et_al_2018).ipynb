{
  "nbformat": 4,
  "nbformat_minor": 0,
  "metadata": {
    "kernelspec": {
      "display_name": "Python 3",
      "language": "python",
      "name": "python3"
    },
    "language_info": {
      "codemirror_mode": {
        "name": "ipython",
        "version": 3
      },
      "file_extension": ".py",
      "mimetype": "text/x-python",
      "name": "python",
      "nbconvert_exporter": "python",
      "pygments_lexer": "ipython3",
      "version": "3.6.5"
    },
    "colab": {
      "name": "Force calcium test (Campbell et al. 2018).ipynb",
      "version": "0.3.2",
      "provenance": [],
      "collapsed_sections": [],
      "include_colab_link": true
    }
  },
  "cells": [
    {
      "cell_type": "markdown",
      "metadata": {
        "id": "view-in-github",
        "colab_type": "text"
      },
      "source": [
        "<a href=\"https://colab.research.google.com/github/vgurev/ICMA/blob/master/Force_calcium_test_(Campbell_et_al_2018).ipynb\" target=\"_parent\"><img src=\"https://colab.research.google.com/assets/colab-badge.svg\" alt=\"Open In Colab\"/></a>"
      ]
    },
    {
      "cell_type": "markdown",
      "metadata": {
        "id": "d7jBUOEXjEyd",
        "colab_type": "text"
      },
      "source": [
        "[Link to Campbell et al. 2018 manuscript](https://www.ncbi.nlm.nih.gov/pubmed/30054031)"
      ]
    },
    {
      "cell_type": "markdown",
      "metadata": {
        "id": "tSXtIeBajEyf",
        "colab_type": "text"
      },
      "source": [
        "## Import statements"
      ]
    },
    {
      "cell_type": "code",
      "metadata": {
        "id": "u3lzQRNvjEyg",
        "colab_type": "code",
        "colab": {}
      },
      "source": [
        "from scipy.integrate import odeint\n",
        "import numpy as np\n",
        "from matplotlib import pyplot as plt\n",
        "from scipy.optimize import curve_fit\n",
        "import pandas as pd \n",
        "from IPython.display import Image"
      ],
      "execution_count": 0,
      "outputs": []
    },
    {
      "cell_type": "markdown",
      "metadata": {
        "id": "1tqq3hcSjEyk",
        "colab_type": "text"
      },
      "source": [
        "## Model equations"
      ]
    },
    {
      "cell_type": "code",
      "metadata": {
        "id": "47lb6WoIjEym",
        "colab_type": "code",
        "colab": {}
      },
      "source": [
        "## ----------------------------\n",
        "## Thin filament transitions\n",
        "## ----------------------------\n",
        "# N_off : binding sites on the thin filament at which myosin heads could not attach too (Inactive state)\n",
        "# N_on : binding sites on the thin filament which are available for mysoin binding (Active state)\n",
        "# J_on : the number of sites per unit time switching from N_on to N_off\n",
        "# J_off : flux of binding sites through the off transition\n",
        "# k_coop : constant that defines the strength of thin filament cooperativity\n",
        "# N_overlap - N_on: the number of binding sites that overlap with the thick filament are available to the mysoin heads\n",
        "# N_on - N_bound: the number of unbound sites (sites that has no myosin bound but are active)\n",
        "\n",
        "## -----------------------------\n",
        "## Thick filament transitions \n",
        "## -----------------------------\n",
        "# M_off : the proportion of mysoin heads in the off state\n",
        "# M_on: the proportion of myosin heads in the on state\n",
        "# M_FG: the proportion of cross-bridgess attached to actin with spring lengths beween x and x + dx\n",
        "# J_1: the flux of mysoin heads transition from M_off to M_on state depending on the total force and phosphorylation state of RLCs\n",
        "# J_2: the flux of myosin heads ino the off state\n",
        "# J_3: the flux of myosin heads binding to actin\n",
        "# J_4: the flux of myosin detachement step \n",
        "\n",
        "\n",
        "## Scalers for scaling the parameters to have units in nm, nM, ms and N\n",
        "dnM_M = 1e-9 # convert nM to uM\n",
        "dPa_kPa = 0.001 # convert from Pa to kPa\n",
        "dm_nm = 1e9 # convert m to nm\n",
        "dnm_nm = 1 # convert nm to nm\n",
        "ds_ms = 1e3 # convert sec to msec\n",
        "dms_ms = 1 # convert msec to msec\n",
        "dM_nM = 1e9 # convert molar to nano molar\n",
        "dnM_nM = 1 # convert nano molar to nano molar\n",
        "\n",
        "def filament_model(state, t, Ca, p):\n",
        "    N_off, M_off, *M_FG = state\n",
        "    N_bound = sum(M_FG)\n",
        "    N_on = 1 - N_off\n",
        "    M_on = 1 - M_off - N_bound\n",
        "    pars = p\n",
        "    H = pars['H'] ## 1 Phosphorylated RLC, 0 otherwise\n",
        "    n = pars['n'] ##XB populations evaluated with 0.5 nM resolution over range -10nm <= x <= 10\n",
        "    k_on = pars['k_on'] / dM_nM / ds_ms #nM-1 ms-1\n",
        "    N_overlap = pars['N_overlap']\n",
        "    k_coop = pars['k_coop']\n",
        "    k_off = pars['k_off'] / ds_ms #ms-1\n",
        "    k_1 = pars['k_1'] / ds_ms  #ms-1\n",
        "    k_MLCP = pars['k_MLCP'] / ds_ms  #ms-1\n",
        "    k_force = pars['k_force'] * dm_nm * dm_nm #N-1 nm2\n",
        "    k_2 = pars['k_2'] / ds_ms ## ms-1 ??\n",
        "    k_3 = pars['k_3'] / dnm_nm / ds_ms #nm-1 ms-1\n",
        "    k_40 = pars['k_40'] / ds_ms  #ms-1\n",
        "    k_41 = pars['k_41'] / dnm_nm / dnm_nm / dnm_nm / dnm_nm #10 # ?? nm-4\n",
        "    x_ps = pars['x_ps'] * dnm_nm #nm\n",
        "    k_cb = pars['k_cb'] / dm_nm  ### N nm-1??\n",
        "    N_0 = pars['N_0'] / dm_nm / dm_nm ##nm-2\n",
        "    k_B = pars['k_B'] * dm_nm  # N nm K-1\n",
        "    T = pars['T'] # K Temperature\n",
        "    k_p = pars['k_p'] / dm_nm / dm_nm # N nm-2 nm-1\n",
        "    L_0 = pars['L_0'] * dnm_nm\n",
        "    L = pars['L'] * dnm_nm\n",
        "    \n",
        "    x = np.linspace(-10, 10, n) # Cross-bridge populations were evaluated with 0.5 nm resolution over the range -10 nm < x <10 nm.\n",
        "    Ca = Ca #nM\n",
        "    \n",
        "\n",
        "    \n",
        "    \n",
        "    F_passive = k_p * (L - L_0)\n",
        "        \n",
        "    F_active = N_0 * k_cb * sum([mfgi * (xi + x_ps) for mfgi, xi in zip(M_FG, x)])\n",
        "    F_total = F_active + F_passive\n",
        "    \n",
        "    \n",
        "    J_on = k_on * Ca * (N_overlap - N_on) * (1 + k_coop * (N_on / N_overlap))\n",
        "    J_off = k_off * (N_on - N_bound) * (1 + k_coop * (N_overlap - N_on) / N_overlap)\n",
        "    \n",
        "    J_1 = (k_1 + H * k_MLCP) * (1 + k_force * F_total) * M_off\n",
        "    J_2 = k_2 * M_on\n",
        "\n",
        "    \n",
        "    d_N_off = -J_on + J_off\n",
        "    d_M_off = -J_1 + J_2\n",
        "\n",
        "    J_3 = np.zeros(n)\n",
        "    J_4 = np.zeros(n)\n",
        "    d_M_FG = np.zeros(n)\n",
        "    \n",
        "    for ii in range(n):\n",
        "        J_3[ii] = k_3 * np.exp((-k_cb * x[ii]**2) / (2 * k_B * T)) * M_on * (N_on - N_bound)\n",
        "        J_4[ii] = (k_40 + k_41 * (x[ii] - x_ps)**4) * M_FG[ii]\n",
        "        d_M_FG[ii]  = J_3[ii] - J_4[ii]\n",
        "\n",
        "    \n",
        "    return [d_N_off, d_M_off] + list(d_M_FG)\n",
        "\n"
      ],
      "execution_count": 0,
      "outputs": []
    },
    {
      "cell_type": "markdown",
      "metadata": {
        "id": "ELLBDvaGjEyp",
        "colab_type": "text"
      },
      "source": [
        "## F-Ca test"
      ]
    },
    {
      "cell_type": "code",
      "metadata": {
        "id": "fGVlY052jEyq",
        "colab_type": "code",
        "colab": {}
      },
      "source": [
        "def f_ca_test(opt_pars = {}):\n",
        "\n",
        "    pars = {'H' : 1, # H =1 when RCLs are phosphorylated\n",
        "            'n' : 41 , #XB populations evaluated with 0.5 nM resolution over range -10nm <= x <= 10\n",
        "            'k_on' : 2.08e7, # M-1 s-1  (page 4 and Table S1)\n",
        "            'N_overlap' : 1, # \n",
        "            'k_coop' : 5.7, # dimensionless (page 4 and Table S1)\n",
        "            'k_off' : 100, # 100 s-1 (page 4 and Table S1)\n",
        "            'k_1' : 6.17, # s-1 (Table S1) \n",
        "            'k_MLCP' : 1.48, # s-1 (Table S1)\n",
        "            'k_force' : 1.74e-4, # N-1 m2 (Table S1)\n",
        "            'k_2' : 200, # s-1 (page 5)\n",
        "            'k_3' : 7.11, # nm-1 s-1 (Table S1)\n",
        "            'k_40' : 1.69, # s-1 (Table S1)\n",
        "            'k_41' : 10, # nm-4 (page 5)\n",
        "            'x_ps' : 1.4, # nm (Table S1)\n",
        "            'k_cb' : 0.001, # N m-1 (page 5) \n",
        "            'N_0' : 6.9e16, # m-2 (page 3)\n",
        "            'k_B' : 1.38e-23, # J K-1 (page 3)\n",
        "            'T' : 310.15, # K (37c page 4)\n",
        "            'k_p': 28.7, # N m-2 nm-1 (Table S1)\n",
        "            'L_0':907, # nm (Table S1)\n",
        "            'L':1900}\n",
        "\n",
        "    \n",
        "    if len(pars) > 0:\n",
        "        for key, value in opt_pars.items():\n",
        "            if not (key in pars.keys()):\n",
        "                raise NameError(\"Parameter %s is not in the model\" % (key))\n",
        "            pars[key] = value\n",
        "\n",
        "    M_FG_index_offset = 2\n",
        "    x = np.linspace(-10 , 10, pars['n']) # Cross-bridge populations were evaluated with 0.5 nm resolution over the range -10 nm < x < 10 nm.\n",
        "    Fmax = []\n",
        "    ca_list = np.logspace(3, 4, 100) # calcium concentration in the range 10^-3 to 10^-5 nM\n",
        "    initial_conditions = [1, 1] + [0] * pars['n'] # N_off, M_off, M_FG\n",
        "    t_start, t_end, n_pts = 0, 5000, 5000\n",
        "    for Ca in ca_list:\n",
        "        t = np.linspace(t_start, t_end, n_pts)\n",
        "        solution = odeint(filament_model, initial_conditions, t, args=(Ca, pars))\n",
        "        inititial_conditions = solution[-1,:]\n",
        "     \n",
        "        F_active = pars['N_0'] / dm_nm / dm_nm * pars['k_cb'] / dm_nm * sum([solution[:, ii + M_FG_index_offset] * (x[ii] + pars['x_ps']) for ii in range(pars['n'])])\n",
        "        F_passive = pars['k_p'] / dm_nm / dm_nm * (pars['L'] - pars['L_0'])\n",
        "        Fmax.append(np.max(F_active + F_passive))\n",
        "\n",
        "    return ca_list, Fmax\n",
        "\n",
        "\n"
      ],
      "execution_count": 0,
      "outputs": []
    },
    {
      "cell_type": "markdown",
      "metadata": {
        "id": "RK_1YW_BQDaw",
        "colab_type": "text"
      },
      "source": [
        "# Functions to fit F-Ca"
      ]
    },
    {
      "cell_type": "code",
      "metadata": {
        "id": "nzJrlvLlP93W",
        "colab_type": "code",
        "colab": {}
      },
      "source": [
        "def f_ca_func(ca, h, ca50, fmax, fmin):\n",
        "    return fmin + fmax * ca**h/ (ca**h + ca50**h)\n",
        "\n",
        "\n",
        "def f_ca_fit(ca, force):\n",
        "    popt, pcov = curve_fit(f_ca_func, ca, force, p0 = [7, 1000, max(force), min(force)])\n",
        "    return popt\n",
        "  "
      ],
      "execution_count": 0,
      "outputs": []
    },
    {
      "cell_type": "markdown",
      "metadata": {
        "id": "XuBmOq14jEyt",
        "colab_type": "text"
      },
      "source": [
        "## An example, simulation +MLCK and two different sarcomere lengths"
      ]
    },
    {
      "cell_type": "code",
      "metadata": {
        "id": "p0zLXHMhjEyu",
        "colab_type": "code",
        "colab": {
          "base_uri": "https://localhost:8080/",
          "height": 52
        },
        "outputId": "1e72a73e-05e4-4b94-ef94-9900a723efe9"
      },
      "source": [
        "ca_list1, fmax1 = f_ca_test(opt_pars = {'H': 1, 'N_overlap':0.4}) \n",
        "ca_list2, fmax2 = f_ca_test(opt_pars = {'H': 1, 'N_overlap':0.8})\n",
        "\n",
        "popt1 = f_ca_fit(ca_list1, np.array(fmax1) * dm_nm * dm_nm * dPa_kPa)\n",
        "popt2 = f_ca_fit(ca_list2, np.array(fmax2) * dm_nm * dm_nm * dPa_kPa)"
      ],
      "execution_count": 85,
      "outputs": [
        {
          "output_type": "stream",
          "text": [
            "/usr/local/lib/python3.6/dist-packages/ipykernel_launcher.py:2: RuntimeWarning: invalid value encountered in double_scalars\n",
            "  \n"
          ],
          "name": "stderr"
        }
      ]
    },
    {
      "cell_type": "code",
      "metadata": {
        "id": "rhOW4p5gjEy1",
        "colab_type": "code",
        "colab": {
          "base_uri": "https://localhost:8080/",
          "height": 314
        },
        "outputId": "6196febb-e244-4d06-c1ba-494d6c0cb422"
      },
      "source": [
        "fig, ax = plt.subplots(1, 1)\n",
        "ax.plot(-np.log10(ca_list1 * dnM_M), np.array(fmax1) * dm_nm * dm_nm * dPa_kPa, 'k-')\n",
        "ax.plot(-np.log10(ca_list2 * dnM_M), np.array(fmax2) * dm_nm * dm_nm * dPa_kPa, 'r-')\n",
        "\n",
        "ax.plot(-np.log10(ca_list1 * dnM_M),f_ca_func(ca_list1, *popt1), 'k--')\n",
        "ax.plot(-np.log10(ca_list2 * dnM_M),f_ca_func(ca_list2, *popt2), 'r--')\n",
        "\n",
        "ax.set_xlabel('pCa', fontsize  = 24)\n",
        "ax.set_ylabel('Force, kPa', fontsize = 24)\n",
        "ax.set_xlim([6, 5])\n"
      ],
      "execution_count": 86,
      "outputs": [
        {
          "output_type": "execute_result",
          "data": {
            "text/plain": [
              "(6, 5)"
            ]
          },
          "metadata": {
            "tags": []
          },
          "execution_count": 86
        },
        {
          "output_type": "display_data",
          "data": {
            "image/png": "[encoded data removed]",
            "text/plain": [
              "<Figure size 432x288 with 1 Axes>"
            ]
          },
          "metadata": {
            "tags": []
          }
        }
      ]
    },
    {
      "cell_type": "code",
      "metadata": {
        "id": "WnPHT0gVjEy4",
        "colab_type": "code",
        "colab": {
          "base_uri": "https://localhost:8080/",
          "height": 112
        },
        "outputId": "598250d8-7cd3-4a51-e9c0-e1676a8791df"
      },
      "source": [
        "df = pd.DataFrame([popt1, popt2], columns=['n', 'Ca50', 'fmax', 'fmin'])\n",
        "df.index = ['SL1', 'SL2']\n",
        "df['pCa'] = -np.log10(df['Ca50']/1000) + 6\n",
        "df['color'] = ['black', 'red']\n",
        "df[['n', 'pCa', 'color']]"
      ],
      "execution_count": 87,
      "outputs": [
        {
          "output_type": "execute_result",
          "data": {
            "text/html": [
              "<div>\n",
              "<style scoped>\n",
              "    .dataframe tbody tr th:only-of-type {\n",
              "        vertical-align: middle;\n",
              "    }\n",
              "\n",
              "    .dataframe tbody tr th {\n",
              "        vertical-align: top;\n",
              "    }\n",
              "\n",
              "    .dataframe thead th {\n",
              "        text-align: right;\n",
              "    }\n",
              "</style>\n",
              "<table border=\"1\" class=\"dataframe\">\n",
              "  <thead>\n",
              "    <tr style=\"text-align: right;\">\n",
              "      <th></th>\n",
              "      <th>n</th>\n",
              "      <th>pCa</th>\n",
              "      <th>color</th>\n",
              "    </tr>\n",
              "  </thead>\n",
              "  <tbody>\n",
              "    <tr>\n",
              "      <th>SL1</th>\n",
              "      <td>4.390494</td>\n",
              "      <td>5.469914</td>\n",
              "      <td>black</td>\n",
              "    </tr>\n",
              "    <tr>\n",
              "      <th>SL2</th>\n",
              "      <td>4.614219</td>\n",
              "      <td>5.491941</td>\n",
              "      <td>red</td>\n",
              "    </tr>\n",
              "  </tbody>\n",
              "</table>\n",
              "</div>"
            ],
            "text/plain": [
              "            n       pCa  color\n",
              "SL1  4.390494  5.469914  black\n",
              "SL2  4.614219  5.491941    red"
            ]
          },
          "metadata": {
            "tags": []
          },
          "execution_count": 87
        }
      ]
    },
    {
      "cell_type": "markdown",
      "metadata": {
        "id": "RSd6ZXlUjEy7",
        "colab_type": "text"
      },
      "source": [
        "\n",
        "\n",
        "---\n",
        "\n",
        "### Longer sarcomere length increases calcium sensisitivity (as in the paper). However, the Hill coefficient slightly increases at longer length (opposite to the paper which shows that longer sarcomere length results in large decrease in the Hill coefficient)\n",
        "\n",
        "---\n",
        "\n"
      ]
    },
    {
      "cell_type": "code",
      "metadata": {
        "id": "E5LYawJtjEy8",
        "colab_type": "code",
        "colab": {}
      },
      "source": [
        ""
      ],
      "execution_count": 0,
      "outputs": []
    }
  ]
}